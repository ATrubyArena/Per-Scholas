{
 "cells": [
  {
   "cell_type": "code",
   "execution_count": 58,
   "id": "845b6169",
   "metadata": {},
   "outputs": [
    {
     "data": {
      "text/plain": [
       "[Row(Date=datetime.date(2012, 1, 3), Open=59.970001, High=61.060001, Low=59.869999, Close=60.330002, Volume=12668800, Adj Close=52.619234999999996),\n",
       " Row(Date=datetime.date(2012, 1, 4), Open=60.209998999999996, High=60.349998, Low=59.470001, Close=59.709998999999996, Volume=9593300, Adj Close=52.078475),\n",
       " Row(Date=datetime.date(2012, 1, 5), Open=59.349998, High=59.619999, Low=58.369999, Close=59.419998, Volume=12768200, Adj Close=51.825539),\n",
       " Row(Date=datetime.date(2012, 1, 6), Open=59.419998, High=59.450001, Low=58.869999, Close=59.0, Volume=8069400, Adj Close=51.45922),\n",
       " Row(Date=datetime.date(2012, 1, 9), Open=59.029999, High=59.549999, Low=58.919998, Close=59.18, Volume=6679300, Adj Close=51.616215000000004)]"
      ]
     },
     "execution_count": 58,
     "metadata": {},
     "output_type": "execute_result"
    }
   ],
   "source": [
    "from pyspark.sql import SparkSession\n",
    "from pyspark.sql.functions import col, mean, max, min, format_number\n",
    "\n",
    "spark = SparkSession.builder \\\n",
    "        .appName(\"CompanyABC\") \\\n",
    "        .getOrCreate()\n",
    "\n",
    "def extract(): #Creating an extract function\n",
    "    \n",
    "    stock_df = spark.read.option(\"header\", \"true\").option(\"inferSchema\", \"true\").csv(\"CompanyABC_stock.csv\") #Extracting all 3 files\n",
    "    april_sales_df = spark.read.option(\"header\", \"true\").option(\"inferSchema\", \"true\").csv(\"Sales_April_2019.csv\")\n",
    "    february_sales_df = spark.read.option(\"header\", \"true\").option(\"inferSchema\", \"true\").csv(\"Sales_February_2019.csv\")\n",
    "    feb_apr_df = february_sales_df.unionByName(april_sales_df) #Combining February and April sales into 1 dataframe\n",
    "    return stock_df, feb_apr_df\n",
    "\n",
    "stock_df, feb_apr_df = extract() #Assigning variables to their respective dataframes\n",
    "\n",
    "stock_df.head(5) #shwoing the first 5 rows"
   ]
  },
  {
   "cell_type": "code",
   "execution_count": 59,
   "id": "7d67ac44",
   "metadata": {},
   "outputs": [
    {
     "name": "stdout",
     "output_type": "stream",
     "text": [
      "+----------+------------------+------------------+------------------+------------------+--------+------------------+--------------------+\n",
      "|      Date|              Open|              High|               Low|             Close|  Volume|         Adj Close|            HV Ratio|\n",
      "+----------+------------------+------------------+------------------+------------------+--------+------------------+--------------------+\n",
      "|2012-01-03|         59.970001|         61.060001|         59.869999|         60.330002|12668800|52.619234999999996|4.819714653321546E-6|\n",
      "|2012-01-04|60.209998999999996|         60.349998|         59.470001|59.709998999999996| 9593300|         52.078475|6.290848613094555E-6|\n",
      "|2012-01-05|         59.349998|         59.619999|         58.369999|         59.419998|12768200|         51.825539|4.669412994783916E-6|\n",
      "|2012-01-06|         59.419998|         59.450001|         58.869999|              59.0| 8069400|          51.45922|7.367338463826307E-6|\n",
      "|2012-01-09|         59.029999|         59.549999|         58.919998|             59.18| 6679300|51.616215000000004|8.915604778943901E-6|\n",
      "|2012-01-10|             59.43|59.709998999999996|             58.98|59.040001000000004| 6907300|         51.494109|8.644477436914568E-6|\n",
      "|2012-01-11|         59.060001|         59.529999|59.040001000000004|         59.400002| 6365600|         51.808098|9.351828421515645E-6|\n",
      "|2012-01-12|59.790001000000004|              60.0|         59.400002|              59.5| 7236400|51.895315999999994| 8.29141562102703E-6|\n",
      "|2012-01-13|             59.18|59.610001000000004|59.009997999999996|59.540001000000004| 7729300|51.930203999999996|7.712212102001476E-6|\n",
      "|2012-01-17|         59.869999|60.110001000000004|             59.52|         59.849998| 8500000|         52.200581|7.071764823529412E-6|\n",
      "|2012-01-18|59.790001000000004|         60.029999|         59.650002|60.009997999999996| 5911400|         52.340131|1.015495466386981E-5|\n",
      "|2012-01-19|             59.93|             60.73|             59.75|60.610001000000004| 9234600|         52.863447|6.576354146362592...|\n",
      "|2012-01-20|             60.75|             61.25|         60.669998|61.009997999999996|10378800|53.212320999999996| 5.90145296180676E-6|\n",
      "|2012-01-23|         60.810001|             60.98|60.509997999999996|             60.91| 7134100|         53.125104|8.547679455011844E-6|\n",
      "|2012-01-24|             60.75|              62.0|             60.75|61.389998999999996| 7362800| 53.54375400000001|8.420709512685392E-6|\n",
      "|2012-01-25|             61.18|61.610001000000004|61.040001000000004|         61.470001| 5915800| 53.61353100000001|1.041448341728929...|\n",
      "|2012-01-26|         61.799999|             61.84|             60.77|         60.970001| 7436200|         53.177436|8.316075414862431E-6|\n",
      "|2012-01-27|60.860001000000004|         61.119999|60.540001000000004|60.709998999999996| 6287300|         52.950665|9.721183814992126E-6|\n",
      "|2012-01-30|         60.470001|             61.32|         60.349998|         61.299999| 7636900|53.465256999999994|8.029436027707578E-6|\n",
      "|2012-01-31|         61.529999|             61.57|         60.580002|61.360001000000004| 9761500|53.517590000000006|6.307432259386365E-6|\n",
      "+----------+------------------+------------------+------------------+------------------+--------+------------------+--------------------+\n",
      "only showing top 20 rows\n",
      "\n"
     ]
    }
   ],
   "source": [
    "#Using the .withcolumn to create a new column with the value of the 'high' column divided by the 'volume' column to get the high value ratio.\n",
    "stock_df = stock_df.withColumn(\"HV Ratio\", col(\"High\") / col(\"Volume\"))\n",
    "stock_df.show()"
   ]
  },
  {
   "cell_type": "code",
   "execution_count": 60,
   "id": "3f6ba4d9",
   "metadata": {},
   "outputs": [
    {
     "name": "stdout",
     "output_type": "stream",
     "text": [
      "The highest day was 2015-01-13 at $90.97\n"
     ]
    }
   ],
   "source": [
    "#Orders the 'High' column in descending order and selecting the first entry in that column being the highest. I also truncated it to 2 decimal places.\n",
    "highest_day = stock_df.orderBy(col(\"High\").desc()).select(\"date\", \"high\").first() \n",
    "print(f\"The highest day was {highest_day['date']} at ${highest_day['high']:.2f}\")"
   ]
  },
  {
   "cell_type": "code",
   "execution_count": 61,
   "id": "bcc77847",
   "metadata": {},
   "outputs": [
    {
     "name": "stdout",
     "output_type": "stream",
     "text": [
      "The average (mean) closing price is $72.39\n"
     ]
    }
   ],
   "source": [
    "#Using the .agg(mean(\"Close\")) to get the mean of the closing amount of the \"Close\" column. Using .first()[0] to get the first and only row.\n",
    "avg_close = stock_df.agg(mean(\"Close\")).first()[0]\n",
    "print(f\"The average (mean) closing price is ${avg_close:.2f}\")"
   ]
  },
  {
   "cell_type": "code",
   "execution_count": 62,
   "id": "c22d8f64",
   "metadata": {},
   "outputs": [
    {
     "name": "stdout",
     "output_type": "stream",
     "text": [
      "+----------+----------+\n",
      "|Max Volume|Min Volume|\n",
      "+----------+----------+\n",
      "|80,898,100| 2,094,900|\n",
      "+----------+----------+\n",
      "\n"
     ]
    }
   ],
   "source": [
    "#Using the .agg max and min to get each value respectively in the \"Volume\" column and using .alias to rename the output and format_number to making it more readable\n",
    "volume = stock_df.agg(format_number(max(\"Volume\"), 0).alias(\"Max Volume\"), format_number(min(\"Volume\"), 0).alias(\"Min Volume\"))\n",
    "volume.show()"
   ]
  },
  {
   "cell_type": "code",
   "execution_count": 63,
   "id": "2c83ae30",
   "metadata": {},
   "outputs": [
    {
     "data": {
      "text/plain": [
       "397"
      ]
     },
     "execution_count": 63,
     "metadata": {},
     "output_type": "execute_result"
    }
   ],
   "source": [
    "#Using .filter on the 'Close' column to filter out any value 70 or higher and using .count() to count the remaining rows. \n",
    "stock_df.filter(stock_df[\"Close\"] < 70).count()"
   ]
  },
  {
   "cell_type": "code",
   "execution_count": 64,
   "id": "855ec4d6",
   "metadata": {},
   "outputs": [
    {
     "name": "stdout",
     "output_type": "stream",
     "text": [
      "The percentage of time that the 'High' was greater than 80 is 9.14%\n"
     ]
    }
   ],
   "source": [
    "#Filtering the \"high\" column for anything over 80 and counting the remainder then dividing it by total days by counting all rows then multiplying it by 100 to convert to a percent\n",
    "percent = stock_df.filter(stock_df[\"High\"] > 80).count() / stock_df.count()*100\n",
    "print(f\"The percentage of time that the 'High' was greater than 80 is {percent:.2f}%\")"
   ]
  },
  {
   "cell_type": "code",
   "execution_count": 65,
   "id": "e2e6d9b0",
   "metadata": {},
   "outputs": [
    {
     "name": "stdout",
     "output_type": "stream",
     "text": [
      "+--------+--------------------+----------------+----------+--------------+--------------------+\n",
      "|Order ID|             Product|Quantity Ordered|Price Each|    Order Date|    Purchase Address|\n",
      "+--------+--------------------+----------------+----------+--------------+--------------------+\n",
      "|  150502|              iPhone|               1|     700.0|02/18/19 01:35|866 Spruce St, Po...|\n",
      "|  150503|AA Batteries (4-p...|               1|      3.84|02/13/19 07:24|18 13th St, San F...|\n",
      "|  150504|27in 4K Gaming Mo...|               1|    389.99|02/18/19 09:46|52 6th St, New Yo...|\n",
      "|  150505|Lightning Chargin...|               1|     14.95|02/02/19 16:47|129 Cherry St, At...|\n",
      "|  150506|AA Batteries (4-p...|               2|      3.84|02/28/19 20:32|548 Lincoln St, S...|\n",
      "|  150507|Lightning Chargin...|               1|     14.95|02/24/19 18:50|387 12th St, Aust...|\n",
      "|  150508|AA Batteries (4-p...|               1|      3.84|02/21/19 19:26|622 Center St, Sa...|\n",
      "|  150509|Apple Airpods Hea...|               1|     150.0|02/26/19 19:53|921 6th St, Seatt...|\n",
      "|  150510|USB-C Charging Cable|               1|     11.95|02/17/19 21:48|451 2nd St, Los A...|\n",
      "|  150511|USB-C Charging Cable|               1|     11.95|02/22/19 07:36|689 River St, San...|\n",
      "|  150512|Bose SoundSport H...|               1|     99.99|02/17/19 18:29|198 Center St, Lo...|\n",
      "|  150513|Bose SoundSport H...|               1|     99.99|02/25/19 20:49|777 Spruce St, Lo...|\n",
      "|  150514|    27in FHD Monitor|               1|    149.99|02/03/19 00:21|723 Wilson St, Lo...|\n",
      "|  150515|Apple Airpods Hea...|               1|     150.0|02/18/19 14:53|101 13th St, New ...|\n",
      "|  150516|Lightning Chargin...|               1|     14.95|02/20/19 12:29|303 Sunset St, At...|\n",
      "|  150517|    Wired Headphones|               1|     11.99|02/08/19 12:57|471 13th St, San ...|\n",
      "|  150518|  Macbook Pro Laptop|               1|    1700.0|02/26/19 12:38|847 10th St, San ...|\n",
      "|  150518|              iPhone|               1|     700.0|02/26/19 12:38|847 10th St, San ...|\n",
      "|  150519|    Wired Headphones|               1|     11.99|02/23/19 13:25|111 Hill St, Dall...|\n",
      "|  150520|AA Batteries (4-p...|               2|      3.84|02/27/19 14:39|512 Church St, Da...|\n",
      "+--------+--------------------+----------------+----------+--------------+--------------------+\n",
      "only showing top 20 rows\n",
      "\n"
     ]
    }
   ],
   "source": [
    "feb_apr_df.show() #Checking the combined dataframe"
   ]
  },
  {
   "cell_type": "code",
   "execution_count": 66,
   "id": "92039be8",
   "metadata": {},
   "outputs": [
    {
     "name": "stdout",
     "output_type": "stream",
     "text": [
      "+--------+--------------------+----------------+----------+--------------+--------------------+-----------+\n",
      "|Order ID|             Product|Quantity Ordered|Price Each|    Order Date|    Purchase Address|Total Price|\n",
      "+--------+--------------------+----------------+----------+--------------+--------------------+-----------+\n",
      "|  150502|              iPhone|               1|     700.0|02/18/19 01:35|866 Spruce St, Po...|     700.00|\n",
      "|  150503|AA Batteries (4-p...|               1|      3.84|02/13/19 07:24|18 13th St, San F...|       3.84|\n",
      "|  150504|27in 4K Gaming Mo...|               1|    389.99|02/18/19 09:46|52 6th St, New Yo...|     389.99|\n",
      "|  150505|Lightning Chargin...|               1|     14.95|02/02/19 16:47|129 Cherry St, At...|      14.95|\n",
      "|  150506|AA Batteries (4-p...|               2|      3.84|02/28/19 20:32|548 Lincoln St, S...|       7.68|\n",
      "|  150507|Lightning Chargin...|               1|     14.95|02/24/19 18:50|387 12th St, Aust...|      14.95|\n",
      "|  150508|AA Batteries (4-p...|               1|      3.84|02/21/19 19:26|622 Center St, Sa...|       3.84|\n",
      "|  150509|Apple Airpods Hea...|               1|     150.0|02/26/19 19:53|921 6th St, Seatt...|     150.00|\n",
      "|  150510|USB-C Charging Cable|               1|     11.95|02/17/19 21:48|451 2nd St, Los A...|      11.95|\n",
      "|  150511|USB-C Charging Cable|               1|     11.95|02/22/19 07:36|689 River St, San...|      11.95|\n",
      "|  150512|Bose SoundSport H...|               1|     99.99|02/17/19 18:29|198 Center St, Lo...|      99.99|\n",
      "|  150513|Bose SoundSport H...|               1|     99.99|02/25/19 20:49|777 Spruce St, Lo...|      99.99|\n",
      "|  150514|    27in FHD Monitor|               1|    149.99|02/03/19 00:21|723 Wilson St, Lo...|     149.99|\n",
      "|  150515|Apple Airpods Hea...|               1|     150.0|02/18/19 14:53|101 13th St, New ...|     150.00|\n",
      "|  150516|Lightning Chargin...|               1|     14.95|02/20/19 12:29|303 Sunset St, At...|      14.95|\n",
      "|  150517|    Wired Headphones|               1|     11.99|02/08/19 12:57|471 13th St, San ...|      11.99|\n",
      "|  150518|  Macbook Pro Laptop|               1|    1700.0|02/26/19 12:38|847 10th St, San ...|   1,700.00|\n",
      "|  150518|              iPhone|               1|     700.0|02/26/19 12:38|847 10th St, San ...|     700.00|\n",
      "|  150519|    Wired Headphones|               1|     11.99|02/23/19 13:25|111 Hill St, Dall...|      11.99|\n",
      "|  150520|AA Batteries (4-p...|               2|      3.84|02/27/19 14:39|512 Church St, Da...|       7.68|\n",
      "+--------+--------------------+----------------+----------+--------------+--------------------+-----------+\n",
      "only showing top 20 rows\n",
      "\n"
     ]
    }
   ],
   "source": [
    "#Creating a 'Total Price' column using .withColumn by multiplying price each and quantity ordered and truncating it to 2 decimal places. \n",
    "# Using format_number to make final result more readable for numbers over 3 elements long\n",
    "feb_apr_df = feb_apr_df.withColumn(\"Total Price\", format_number((col(\"Price Each\") * col(\"Quantity Ordered\")), 2))\n",
    "\n",
    "feb_apr_df.show()"
   ]
  },
  {
   "cell_type": "markdown",
   "id": "7b62b298",
   "metadata": {},
   "source": [
    "In MySql I used \"create database CompanyABC_DB;\" to create the blank database."
   ]
  },
  {
   "cell_type": "code",
   "execution_count": 67,
   "id": "42559923",
   "metadata": {},
   "outputs": [],
   "source": [
    "#Writing stock_df to the SQL database\n",
    "stock_df.write \\\n",
    "    .format(\"jdbc\") \\\n",
    "    .option(\"url\", \"jdbc:mysql://localhost:3306/CompanyABC_DB\") \\\n",
    "    .option(\"driver\", \"com.mysql.cj.jdbc.Driver\") \\\n",
    "    .option(\"dbtable\", \"Company_Stock_Data\") \\\n",
    "    .option(\"user\", \"root\") \\\n",
    "    .option(\"password\", \"password\") \\\n",
    "    .mode(\"append\") \\\n",
    "    .save()\n",
    "\n",
    "#Writing the feb_apr_df to the SQL database\n",
    "feb_apr_df.write \\\n",
    "    .format(\"jdbc\") \\\n",
    "    .option(\"url\", \"jdbc:mysql://localhost:3306/CompanyABC_DB\") \\\n",
    "    .option(\"driver\", \"com.mysql.cj.jdbc.Driver\") \\\n",
    "    .option(\"dbtable\", \"Feb_Apr_Sales_Data\") \\\n",
    "    .option(\"user\", \"root\") \\\n",
    "    .option(\"password\", \"password\") \\\n",
    "    .mode(\"append\") \\\n",
    "    .save()"
   ]
  }
 ],
 "metadata": {
  "kernelspec": {
   "display_name": "Python 3",
   "language": "python",
   "name": "python3"
  },
  "language_info": {
   "codemirror_mode": {
    "name": "ipython",
    "version": 3
   },
   "file_extension": ".py",
   "mimetype": "text/x-python",
   "name": "python",
   "nbconvert_exporter": "python",
   "pygments_lexer": "ipython3",
   "version": "3.13.2"
  }
 },
 "nbformat": 4,
 "nbformat_minor": 5
}
