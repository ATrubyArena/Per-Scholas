{
 "cells": [
  {
   "cell_type": "code",
   "execution_count": 3,
   "metadata": {},
   "outputs": [
    {
     "name": "stdout",
     "output_type": "stream",
     "text": [
      "lxndr\n",
      "aeae\n"
     ]
    }
   ],
   "source": [
    "class LetterFilter:\n",
    "    def __init__(self, s):\n",
    "        self.s = s\n",
    "        \n",
    "\n",
    "# Enter your code here. \n",
    "# Complete the classes below.\n",
    "# Reading the inputs and writing the outputs are already done for you.\n",
    "#\n",
    "# class LetterFilter:\n",
    "#\n",
    "#   def __init__(self, s):\n",
    "#       self.s = s\n",
    "\t\n",
    "    def filter_vowels(self):\n",
    "        vowel = \"aeiou\"\n",
    "        result = []\n",
    "        for char in self.s:\n",
    "            if char not in vowel:\n",
    "                result.append(char)\n",
    "        return \"\".join(result)\n",
    "\n",
    "    def filter_consonants(self):\n",
    "        consonants = \"bcdfghjklmnpqrstvwxyz\"\n",
    "        result2 = []\n",
    "        for char in self.s:\n",
    "            if char not in consonants:\n",
    "                result2.append(char)\n",
    "        return \"\".join(result2)\n",
    "\n",
    "s = input()\n",
    "f = LetterFilter(s)\n",
    "print(f.filter_vowels())\n",
    "print(f.filter_consonants())"
   ]
  }
 ],
 "metadata": {
  "kernelspec": {
   "display_name": "Python 3",
   "language": "python",
   "name": "python3"
  },
  "language_info": {
   "codemirror_mode": {
    "name": "ipython",
    "version": 3
   },
   "file_extension": ".py",
   "mimetype": "text/x-python",
   "name": "python",
   "nbconvert_exporter": "python",
   "pygments_lexer": "ipython3",
   "version": "3.13.2"
  }
 },
 "nbformat": 4,
 "nbformat_minor": 2
}
