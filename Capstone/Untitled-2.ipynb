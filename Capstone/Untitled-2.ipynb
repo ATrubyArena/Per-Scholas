{
 "cells": [
  {
   "cell_type": "code",
   "execution_count": null,
   "id": "8bb6d975",
   "metadata": {},
   "outputs": [],
   "source": [
    "class Microwave:\n",
    "    def __init__(self, brand: str, power_rating: str) -> None:\n",
    "        self.brand = brand\n",
    "        self.power_rating = power_rating\n",
    "\n",
    "smeg = Microwave('Smeg', 'B')\n",
    "print(smeg)\n",
    "print(smeg.brand)\n",
    "print(smeg.power_rating)\n",
    "\n",
    "bosch = Microwave('Bosch', 'C')\n",
    "print(bosch)\n",
    "print(bosch.brand)\n",
    "print(bosch.power_rating)\n",
    "\n"
   ]
  },
  {
   "cell_type": "code",
   "execution_count": null,
   "id": "4b7f7087",
   "metadata": {},
   "outputs": [
    {
     "name": "stdout",
     "output_type": "stream",
     "text": [
      "2\n"
     ]
    }
   ],
   "source": [
    "class Microwave:\n",
    "    def __init__(self, brand: str, power_rating: str):\n",
    "        self.brand = brand\n",
    "        self.power_rating = power_rating\n",
    "        self.turned_on = False\n",
    "    \n",
    "    def turn_on(self) -> None:\n",
    "        if self.turned_on:\n",
    "            print(f'Microwave ({self.brand}) is already turned on.')\n",
    "        else:\n",
    "            self.turned_on = True\n",
    "            print(f'Microwave ({self.brand}) is now turned on.')\n",
    "\n",
    "    def turn_off(self) -> None:\n",
    "        if self.turned_on:\n",
    "            self.turned_on = False\n",
    "            print(f'Microwave ({self.brand}) is now turned off.')\n",
    "        else:\n",
    "            print(f'Microwave ({self.brand}) is already turned off.')\n",
    "\n",
    "    def run(self, seconds: int) -> None:\n",
    "        if self.turned_on:\n",
    "            print(f'Running ({self.brand}) for {seconds} seconds.')\n",
    "        else:\n",
    "            print(f'A mystical force whispers: \"Turn on your microwave first... Dummy\"')\n",
    "\n",
    "class kenny_list:\n",
    "\n",
    "    def __init__(self, data: list):\n",
    "        self.data = data\n",
    "\n",
    "    def __getitem__(self, index):\n",
    "        return self.data[index]\n",
    "\n",
    "arr = kenny_list([1,2,3])\n",
    "\n",
    "print(arr[1])\n",
    "\n",
    "# smeg = Microwave('Smeg', 'B')\n",
    "# smeg.turn_on()\n",
    "# smeg.turn_on()\n",
    "# smeg.run(30)\n",
    "# smeg.turn_off()\n",
    "# smeg.run(10)\n",
    "\n",
    "# bosch = Microwave('Bosch', 'C')\n",
    "# bosch.turn_on()\n",
    "# bosch.turn_on()\n",
    "# bosch.run(30)\n",
    "# bosch.turn_off()\n",
    "# bosch.run(10)"
   ]
  }
 ],
 "metadata": {
  "kernelspec": {
   "display_name": ".venv",
   "language": "python",
   "name": "python3"
  },
  "language_info": {
   "codemirror_mode": {
    "name": "ipython",
    "version": 3
   },
   "file_extension": ".py",
   "mimetype": "text/x-python",
   "name": "python",
   "nbconvert_exporter": "python",
   "pygments_lexer": "ipython3",
   "version": "3.13.2"
  }
 },
 "nbformat": 4,
 "nbformat_minor": 5
}
