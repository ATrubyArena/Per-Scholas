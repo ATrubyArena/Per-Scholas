{
 "cells": [
  {
   "cell_type": "code",
   "execution_count": null,
   "id": "23c2c1bd",
   "metadata": {},
   "outputs": [
    {
     "data": {
      "text/html": [
       "<pre style=\"white-space:pre;overflow-x:auto;line-height:normal;font-family:Menlo,'DejaVu Sans Mono',consolas,'Courier New',monospace\">Loan Data API Status Code: <span style=\"color: #008080; text-decoration-color: #008080; font-weight: bold\">200</span>\n",
       "</pre>\n"
      ],
      "text/plain": [
       "Loan Data API Status Code: \u001b[1;36m200\u001b[0m\n"
      ]
     },
     "metadata": {},
     "output_type": "display_data"
    },
    {
     "name": "stdout",
     "output_type": "stream",
     "text": [
      "+------+----------------+------------+-------------+--------------------+----------+----------+--------+----------+---------+--------------------+-----------+---------+-----------------+\n",
      "|APT_NO|  CREDIT_CARD_NO|   CUST_CITY| CUST_COUNTRY|          CUST_EMAIL|CUST_PHONE|CUST_STATE|CUST_ZIP|FIRST_NAME|LAST_NAME|        LAST_UPDATED|MIDDLE_NAME|      SSN|      STREET_NAME|\n",
      "+------+----------------+------------+-------------+--------------------+----------+----------+--------+----------+---------+--------------------+-----------+---------+-----------------+\n",
      "|   656|4210653310061055|     Natchez|United States| AHooper@example.com|   1237818|        MS|   39120|      Alec|   Hooper|2018-04-21T12:49:...|         Wm|123456100|Main Street North|\n",
      "|   829|4210653310102868|Wethersfield|United States| EHolman@example.com|   1238933|        CT|   06109|      Etta|   Holman|2018-04-21T12:49:...|    Brendan|123453023|    Redwood Drive|\n",
      "|   683|4210653310116272|     Huntley|United States| WDunham@example.com|   1243018|        IL|   60142|    Wilber|   Dunham|2018-04-21T12:49:...|   Ezequiel|123454487| 12th Street East|\n",
      "|   253|4210653310195948|   NewBerlin|United States|  EHardy@example.com|   1243215|        WI|   53151|   Eugenio|    Hardy|2018-04-21T12:49:...|      Trina|123459758|Country Club Road|\n",
      "|   301|4210653310356919|      ElPaso|United States|  WAyers@example.com|   1242074|        TX|   79930|   Wilfred|    Ayers|2018-04-21T12:49:...|        May|123454431|   Madison Street|\n",
      "|     3|4210653310395982|NorthOlmsted|United States|BWoodard@example.com|   1242570|        OH|   44070|      Beau|  Woodard|2018-04-21T12:49:...|    Ambrose|123454202|   Colonial Drive|\n",
      "|    84|4210653310400536|      Vienna|United States|   SKemp@example.com|   1239685|        VA|   22180|    Sheila|     Kemp|2018-04-21T12:49:...|      Larry|123451799|   Belmont Avenue|\n",
      "|   728|4210653310459911|      Duarte|United States| WHurley@example.com|   1238213|        CA|   91010|     Wendy|   Hurley|2018-04-21T12:49:...|        Ora|123453875|     Oxford Court|\n",
      "|    81|4210653310773972|      Owosso|United States|AGilmore@example.com|   1240689|        MI|   48867|      Alec|  Gilmore|2018-04-21T12:49:...|     Tracie|123457511|    Forest Street|\n",
      "|   561|4210653310794854|        Zion|United States|    BLau@example.com|   1235222|        IL|   60099|    Barbra|      Lau|2018-04-21T12:49:...|    Mitchel|123457464|     Court Street|\n",
      "|   622|4210653310817373|  Youngstown|United States|EThomson@example.com|   1241363|        OH|   44512|   Edmundo|  Thomson|2018-04-21T12:49:...|      Denny|123457639|    Cypress Court|\n",
      "|   924|4210653310844617| Summerville|United States| ETruong@example.com|   1236228|        SC|   29483|      Elsa|   Truong|2018-04-21T12:49:...|   Isabelle|123453242|  8th Street West|\n",
      "|   611|4210653311015303|      ElPaso|United States|HMckinney@example...|   1238165|        TX|   79930|     Homer| Mckinney|2018-04-21T12:49:...|      Henry|123454339|      East Avenue|\n",
      "|   680|4210653311215039|      Fenton|United States|   RKidd@example.com|   1234730|        MI|   48430|      Rita|     Kidd|2018-04-21T12:49:...|     Rickey|123454537|         Route 44|\n",
      "|    71|4210653311229354|  Grandville|United States|ABallard@example.com|   1242113|        MI|   49418|    Amalia|  Ballard|2018-04-21T12:49:...|  Heriberto|123452373|    Warren Street|\n",
      "|   195|4210653311652836|    YubaCity|United States| PThomas@example.com|   1239888|        CA|   95993|     Patty|   Thomas|2018-04-21T12:49:...|   Angelita|123455343|     Jones Street|\n",
      "|   500|4210653311707126|   CapeCoral|United States| JMorrow@example.com|   1240158|        FL|   33904|  Josefina|   Morrow|2018-04-21T12:49:...|   Dorothea|123451533|       New Street|\n",
      "|   989|4210653311730764|  Brookfield|United States|NAndrews@example.com|   1241408|        WI|   53045|    Nelson|  Andrews|2018-04-21T12:49:...|  Jefferson|123459278|  Division Street|\n",
      "|   810|4210653311898082|    Richmond|United States|MSchneider@exampl...|   1238390|        VA|   23223|    Miquel|Schneider|2018-04-21T12:49:...|     Maximo|123456915|     Maple Street|\n",
      "|   649|4210653312021765| WestChester|United States|PTidwell@example.com|   1235067|        PA|   19380|    Parker|  Tidwell|2018-04-21T12:49:...|    Arnulfo|123453807|       Eagle Road|\n",
      "+------+----------------+------------+-------------+--------------------+----------+----------+--------+----------+---------+--------------------+-----------+---------+-----------------+\n",
      "only showing top 20 rows\n",
      "\n",
      "+-----------------+-----------+------------+------------+------------+-------------------+----------+--------------------+\n",
      "|      BRANCH_CITY|BRANCH_CODE| BRANCH_NAME|BRANCH_PHONE|BRANCH_STATE|      BRANCH_STREET|BRANCH_ZIP|        LAST_UPDATED|\n",
      "+-----------------+-----------+------------+------------+------------+-------------------+----------+--------------------+\n",
      "|        Lakeville|          1|Example Bank|  1234565276|          MN|       Bridle Court|     55044|2018-04-18T16:51:...|\n",
      "|          Huntley|          2|Example Bank|  1234618993|          IL|  Washington Street|     60142|2018-04-18T16:51:...|\n",
      "|SouthRichmondHill|          3|Example Bank|  1234985926|          NY|      Warren Street|     11419|2018-04-18T16:51:...|\n",
      "|       Middleburg|          4|Example Bank|  1234663064|          FL|   Cleveland Street|     32068|2018-04-18T16:51:...|\n",
      "|    KingOfPrussia|          5|Example Bank|  1234849701|          PA|        14th Street|     19406|2018-04-18T16:51:...|\n",
      "|         Paterson|          7|Example Bank|  1234144890|          NJ|   Jefferson Street|      7501|2018-04-18T16:51:...|\n",
      "|        Pittsford|          8|Example Bank|  1234678272|          NY|           B Street|     14534|2018-04-18T16:51:...|\n",
      "|     Wethersfield|          9|Example Bank|  1234675219|          CT|    Jefferson Court|      6109|2018-04-18T16:51:...|\n",
      "|     NorthOlmsted|         10|Example Bank|  1234145047|          OH|     Cambridge Road|     44070|2018-04-18T16:51:...|\n",
      "|     Hillsborough|         11|Example Bank|  1234366354|          NJ|    3rd Street West|      8844|2018-04-18T16:51:...|\n",
      "|   MadisonHeights|         12|Example Bank|  1234867175|          MI|          Mill Road|     48071|2018-04-18T16:51:...|\n",
      "|           Oviedo|         14|Example Bank|  1234938460|          FL|  Washington Street|     32765|2018-04-18T16:51:...|\n",
      "|    Mechanicsburg|         15|Example Bank|  1234462043|          PA|    Chestnut Street|     17050|2018-04-18T16:51:...|\n",
      "|        Plainview|         16|Example Bank|  1234857525|          NY|       Monroe Drive|     11803|2018-04-18T16:51:...|\n",
      "|          Paducah|         17|Example Bank|  1234546360|          KY|    Railroad Street|     42001|2018-04-18T16:51:...|\n",
      "|     Harleysville|         18|Example Bank|  1234824455|          PA|Church Street South|     19438|2018-04-18T16:51:...|\n",
      "|     SilverSpring|         19|Example Bank|  1234484380|          MD|        King Street|     20901|2018-04-18T16:51:...|\n",
      "|       Burnsville|         20|Example Bank|  1234840138|          MN|   Canterbury Drive|     55337|2018-04-18T16:51:...|\n",
      "|           Tacoma|         21|Example Bank|  1234362433|          WA|         2nd Avenue|     98444|2018-04-18T16:51:...|\n",
      "|         Carlisle|         22|Example Bank|  1234922492|          PA| Front Street South|     17013|2018-04-18T16:51:...|\n",
      "+-----------------+-----------+------------+------------+------------+-------------------+----------+--------------------+\n",
      "only showing top 20 rows\n",
      "\n",
      "+-----------+----------------+---------+---+-----+--------------+----------------+-----------------+----+\n",
      "|BRANCH_CODE|  CREDIT_CARD_NO| CUST_SSN|DAY|MONTH|TRANSACTION_ID|TRANSACTION_TYPE|TRANSACTION_VALUE|YEAR|\n",
      "+-----------+----------------+---------+---+-----+--------------+----------------+-----------------+----+\n",
      "|        114|4210653349028689|123459988| 14|    2|             1|       Education|             78.9|2018|\n",
      "|         35|4210653349028689|123459988| 20|    3|             2|   Entertainment|            14.24|2018|\n",
      "|        160|4210653349028689|123459988|  8|    7|             3|         Grocery|             56.7|2018|\n",
      "|        114|4210653349028689|123459988| 19|    4|             4|   Entertainment|            59.73|2018|\n",
      "|         93|4210653349028689|123459988| 10|   10|             5|             Gas|             3.59|2018|\n",
      "|        164|4210653349028689|123459988| 28|    5|             6|       Education|             6.89|2018|\n",
      "|        119|4210653349028689|123459988| 19|    5|             7|   Entertainment|            43.39|2018|\n",
      "|         23|4210653349028689|123459988|  8|    8|             8|             Gas|            95.39|2018|\n",
      "|        166|4210653349028689|123459988| 18|    3|             9|   Entertainment|            93.26|2018|\n",
      "|         83|4210653349028689|123459988|  3|    9|            10|           Bills|           100.38|2018|\n",
      "|         52|4210653349028689|123459988| 21|    8|            11|             Gas|            98.75|2018|\n",
      "|         17|4210653349028689|123459988| 24|   12|            12|             Gas|            42.71|2018|\n",
      "|         80|4210653349028689|123459988|  3|    4|            13|         Grocery|            40.24|2018|\n",
      "|         50|4210653349028689|123459988| 15|    4|            14|           Bills|            17.81|2018|\n",
      "|        123|4210653349028689|123459988| 17|    5|            15|           Bills|             29.0|2018|\n",
      "|          9|4210653349028689|123459988|  6|    7|            16|            Test|            70.63|2018|\n",
      "|          3|4210653349028689|123459988| 28|    9|            17|            Test|            27.04|2018|\n",
      "|        135|4210653349028689|123459988|  4|    7|            18|   Entertainment|            88.75|2018|\n",
      "|        103|4210653349028689|123459988| 24|    4|            19|            Test|            77.02|2018|\n",
      "|         78|4210653349028689|123459988|  8|   10|            20|           Bills|            34.34|2018|\n",
      "+-----------+----------------+---------+---+-----+--------------+----------------+-----------------+----+\n",
      "only showing top 20 rows\n",
      "\n"
     ]
    }
   ],
   "source": [
    "from pyspark.sql import SparkSession\n",
    "import datetime as dt\n",
    "import matplotlib.pyplot as plt\n",
    "import mysql.connector as dbconnect\n",
    "from rich import print\n",
    "from pyspark.sql.functions import concat, lit, substring, lpad, col, initcap, lower, trim, concat_ws, regexp_replace, when, length\n",
    "import seaborn as sb\n",
    "from mysql.connector import Error\n",
    "from datetime import datetime\n",
    "import requests\n",
    "import json\n",
    "import calendar\n",
    "\n",
    "spark = SparkSession.builder\\\n",
    "        .appName(\"CDW Sapp\")\\\n",
    "        .config(\"spark.jars\", r\"C:\\Spark\\jars\\mysql-connector-java-8.0.23.jar\")\\\n",
    "        .getOrCreate()\n",
    "\n",
    "def extract():  # Creating an extract function to read the JSON files as dataframes.\n",
    "\n",
    "    branch_df = spark.read.option(\"multiline\", \"true\").json(\"cdw_sapp_branch.json\")\n",
    "    credit_df = spark.read.option(\"multiline\", \"true\").json(\"cdw_sapp_credit.json\")\n",
    "    customer_df = spark.read.option(\"multiline\", \"true\").json(\"cdw_sapp_customer.json\")\n",
    "\n",
    "    # Fetch loan data from API\n",
    "    loan_url = \"https://raw.githubusercontent.com/platformps/LoanDataset/main/loan_data.json\"\n",
    "    response = requests.get(loan_url)\n",
    "\n",
    "    # Check status code\n",
    "    print(f\"Loan Data API Status Code: {response.status_code}\")\n",
    "    if response.status_code == 200:\n",
    "        # Save JSON to a file so Spark can read it\n",
    "        with open(\"loan_data.json\", \"w\") as f: #Saves the fetched JSON data to a local file (loan_data.json), because Spark can only load from files or structured sources, not directly from memory or an HTTP response.\n",
    "            json.dump(response.json(), f)\n",
    "\n",
    "        # Load loan data into DataFrame\n",
    "        loan_df = spark.read.option(\"multiline\", \"true\").json(\"loan_data.json\")\n",
    "    else:\n",
    "        print(\"Failed to fetch loan data.\")\n",
    "        loan_df = spark.createDataFrame([], schema=None)  # Empty fallback\n",
    "\n",
    "    return customer_df, branch_df, credit_df, loan_df\n",
    "\n",
    "customer_df, branch_df, credit_df, loan_df = extract()\n",
    "\n",
    "\n",
    "customer_df.show()\n",
    "branch_df.show()\n",
    "credit_df.show()"
   ]
  },
  {
   "cell_type": "code",
   "execution_count": 3,
   "id": "7e5c7b2d",
   "metadata": {},
   "outputs": [
    {
     "name": "stdout",
     "output_type": "stream",
     "text": [
      "+----------------+------------+-------------+--------------------+----------+--------+----------+---------+--------------------+-----------+---------+--------------------+------------+\n",
      "|  CREDIT_CARD_NO|   CUST_CITY| CUST_COUNTRY|          CUST_EMAIL|CUST_STATE|CUST_ZIP|FIRST_NAME|LAST_NAME|        LAST_UPDATED|MIDDLE_NAME|      SSN| FULL_STREET_ADDRESS|  CUST_PHONE|\n",
      "+----------------+------------+-------------+--------------------+----------+--------+----------+---------+--------------------+-----------+---------+--------------------+------------+\n",
      "|4210653310061055|     Natchez|United States| AHooper@example.com|        MS|   39120|      Alec|   Hooper|2018-04-21T12:49:...|         wm|123456100|Main Street North...|XXX-123-7818|\n",
      "|4210653310102868|Wethersfield|United States| EHolman@example.com|        CT|   06109|      Etta|   Holman|2018-04-21T12:49:...|    brendan|123453023|Redwood Drive, Ap...|XXX-123-8933|\n",
      "|4210653310116272|     Huntley|United States| WDunham@example.com|        IL|   60142|    Wilber|   Dunham|2018-04-21T12:49:...|   ezequiel|123454487|12th Street East,...|XXX-124-3018|\n",
      "|4210653310195948|   NewBerlin|United States|  EHardy@example.com|        WI|   53151|   Eugenio|    Hardy|2018-04-21T12:49:...|      trina|123459758|Country Club Road...|XXX-124-3215|\n",
      "|4210653310356919|      ElPaso|United States|  WAyers@example.com|        TX|   79930|   Wilfred|    Ayers|2018-04-21T12:49:...|        may|123454431|Madison Street, A...|XXX-124-2074|\n",
      "|4210653310395982|NorthOlmsted|United States|BWoodard@example.com|        OH|   44070|      Beau|  Woodard|2018-04-21T12:49:...|    ambrose|123454202|Colonial Drive, A...|XXX-124-2570|\n",
      "|4210653310400536|      Vienna|United States|   SKemp@example.com|        VA|   22180|    Sheila|     Kemp|2018-04-21T12:49:...|      larry|123451799|Belmont Avenue, A...|XXX-123-9685|\n",
      "|4210653310459911|      Duarte|United States| WHurley@example.com|        CA|   91010|     Wendy|   Hurley|2018-04-21T12:49:...|        ora|123453875|Oxford Court, Apt...|XXX-123-8213|\n",
      "|4210653310773972|      Owosso|United States|AGilmore@example.com|        MI|   48867|      Alec|  Gilmore|2018-04-21T12:49:...|     tracie|123457511|Forest Street, Ap...|XXX-124-0689|\n",
      "|4210653310794854|        Zion|United States|    BLau@example.com|        IL|   60099|    Barbra|      Lau|2018-04-21T12:49:...|    mitchel|123457464|Court Street, Apt...|XXX-123-5222|\n",
      "|4210653310817373|  Youngstown|United States|EThomson@example.com|        OH|   44512|   Edmundo|  Thomson|2018-04-21T12:49:...|      denny|123457639|Cypress Court, Ap...|XXX-124-1363|\n",
      "|4210653310844617| Summerville|United States| ETruong@example.com|        SC|   29483|      Elsa|   Truong|2018-04-21T12:49:...|   isabelle|123453242|8th Street West, ...|XXX-123-6228|\n",
      "|4210653311015303|      ElPaso|United States|HMckinney@example...|        TX|   79930|     Homer| Mckinney|2018-04-21T12:49:...|      henry|123454339|East Avenue, Apt#...|XXX-123-8165|\n",
      "|4210653311215039|      Fenton|United States|   RKidd@example.com|        MI|   48430|      Rita|     Kidd|2018-04-21T12:49:...|     rickey|123454537|  Route 44, Apt# 680|XXX-123-4730|\n",
      "|4210653311229354|  Grandville|United States|ABallard@example.com|        MI|   49418|    Amalia|  Ballard|2018-04-21T12:49:...|  heriberto|123452373|Warren Street, Ap...|XXX-124-2113|\n",
      "|4210653311652836|    YubaCity|United States| PThomas@example.com|        CA|   95993|     Patty|   Thomas|2018-04-21T12:49:...|   angelita|123455343|Jones Street, Apt...|XXX-123-9888|\n",
      "|4210653311707126|   CapeCoral|United States| JMorrow@example.com|        FL|   33904|  Josefina|   Morrow|2018-04-21T12:49:...|   dorothea|123451533|New Street, Apt# 500|XXX-124-0158|\n",
      "|4210653311730764|  Brookfield|United States|NAndrews@example.com|        WI|   53045|    Nelson|  Andrews|2018-04-21T12:49:...|  jefferson|123459278|Division Street, ...|XXX-124-1408|\n",
      "|4210653311898082|    Richmond|United States|MSchneider@exampl...|        VA|   23223|    Miquel|Schneider|2018-04-21T12:49:...|     maximo|123456915|Maple Street, Apt...|XXX-123-8390|\n",
      "|4210653312021765| WestChester|United States|PTidwell@example.com|        PA|   19380|    Parker|  Tidwell|2018-04-21T12:49:...|    arnulfo|123453807|Eagle Road, Apt# 649|XXX-123-5067|\n",
      "+----------------+------------+-------------+--------------------+----------+--------+----------+---------+--------------------+-----------+---------+--------------------+------------+\n",
      "only showing top 20 rows\n",
      "\n",
      "+-----------------+-----------+------------+------------+-------------------+----------+--------------------+-------------+\n",
      "|      BRANCH_CITY|BRANCH_CODE| BRANCH_NAME|BRANCH_STATE|      BRANCH_STREET|BRANCH_ZIP|        LAST_UPDATED| BRANCH_PHONE|\n",
      "+-----------------+-----------+------------+------------+-------------------+----------+--------------------+-------------+\n",
      "|        Lakeville|          1|Example Bank|          MN|       Bridle Court|     55044|2018-04-18T16:51:...|(123)456-5276|\n",
      "|          Huntley|          2|Example Bank|          IL|  Washington Street|     60142|2018-04-18T16:51:...|(123)461-8993|\n",
      "|SouthRichmondHill|          3|Example Bank|          NY|      Warren Street|     11419|2018-04-18T16:51:...|(123)498-5926|\n",
      "|       Middleburg|          4|Example Bank|          FL|   Cleveland Street|     32068|2018-04-18T16:51:...|(123)466-3064|\n",
      "|    KingOfPrussia|          5|Example Bank|          PA|        14th Street|     19406|2018-04-18T16:51:...|(123)484-9701|\n",
      "|         Paterson|          7|Example Bank|          NJ|   Jefferson Street|      7501|2018-04-18T16:51:...|(123)414-4890|\n",
      "|        Pittsford|          8|Example Bank|          NY|           B Street|     14534|2018-04-18T16:51:...|(123)467-8272|\n",
      "|     Wethersfield|          9|Example Bank|          CT|    Jefferson Court|      6109|2018-04-18T16:51:...|(123)467-5219|\n",
      "|     NorthOlmsted|         10|Example Bank|          OH|     Cambridge Road|     44070|2018-04-18T16:51:...|(123)414-5047|\n",
      "|     Hillsborough|         11|Example Bank|          NJ|    3rd Street West|      8844|2018-04-18T16:51:...|(123)436-6354|\n",
      "|   MadisonHeights|         12|Example Bank|          MI|          Mill Road|     48071|2018-04-18T16:51:...|(123)486-7175|\n",
      "|           Oviedo|         14|Example Bank|          FL|  Washington Street|     32765|2018-04-18T16:51:...|(123)493-8460|\n",
      "|    Mechanicsburg|         15|Example Bank|          PA|    Chestnut Street|     17050|2018-04-18T16:51:...|(123)446-2043|\n",
      "|        Plainview|         16|Example Bank|          NY|       Monroe Drive|     11803|2018-04-18T16:51:...|(123)485-7525|\n",
      "|          Paducah|         17|Example Bank|          KY|    Railroad Street|     42001|2018-04-18T16:51:...|(123)454-6360|\n",
      "|     Harleysville|         18|Example Bank|          PA|Church Street South|     19438|2018-04-18T16:51:...|(123)482-4455|\n",
      "|     SilverSpring|         19|Example Bank|          MD|        King Street|     20901|2018-04-18T16:51:...|(123)448-4380|\n",
      "|       Burnsville|         20|Example Bank|          MN|   Canterbury Drive|     55337|2018-04-18T16:51:...|(123)484-0138|\n",
      "|           Tacoma|         21|Example Bank|          WA|         2nd Avenue|     98444|2018-04-18T16:51:...|(123)436-2433|\n",
      "|         Carlisle|         22|Example Bank|          PA| Front Street South|     17013|2018-04-18T16:51:...|(123)492-2492|\n",
      "+-----------------+-----------+------------+------------+-------------------+----------+--------------------+-------------+\n",
      "only showing top 20 rows\n",
      "\n",
      "+-----------+----------------+---------+--------------+----------------+-----------------+--------+\n",
      "|BRANCH_CODE|      CUST_CC_NO| CUST_SSN|TRANSACTION_ID|TRANSACTION_TYPE|TRANSACTION_VALUE|  TIMEID|\n",
      "+-----------+----------------+---------+--------------+----------------+-----------------+--------+\n",
      "|        114|4210653349028689|123459988|             1|       Education|             78.9|20180214|\n",
      "|         35|4210653349028689|123459988|             2|   Entertainment|            14.24|20180320|\n",
      "|        160|4210653349028689|123459988|             3|         Grocery|             56.7|20180708|\n",
      "|        114|4210653349028689|123459988|             4|   Entertainment|            59.73|20180419|\n",
      "|         93|4210653349028689|123459988|             5|             Gas|             3.59|20181010|\n",
      "|        164|4210653349028689|123459988|             6|       Education|             6.89|20180528|\n",
      "|        119|4210653349028689|123459988|             7|   Entertainment|            43.39|20180519|\n",
      "|         23|4210653349028689|123459988|             8|             Gas|            95.39|20180808|\n",
      "|        166|4210653349028689|123459988|             9|   Entertainment|            93.26|20180318|\n",
      "|         83|4210653349028689|123459988|            10|           Bills|           100.38|20180903|\n",
      "|         52|4210653349028689|123459988|            11|             Gas|            98.75|20180821|\n",
      "|         17|4210653349028689|123459988|            12|             Gas|            42.71|20181224|\n",
      "|         80|4210653349028689|123459988|            13|         Grocery|            40.24|20180403|\n",
      "|         50|4210653349028689|123459988|            14|           Bills|            17.81|20180415|\n",
      "|        123|4210653349028689|123459988|            15|           Bills|             29.0|20180517|\n",
      "|          9|4210653349028689|123459988|            16|            Test|            70.63|20180706|\n",
      "|          3|4210653349028689|123459988|            17|            Test|            27.04|20180928|\n",
      "|        135|4210653349028689|123459988|            18|   Entertainment|            88.75|20180704|\n",
      "|        103|4210653349028689|123459988|            19|            Test|            77.02|20180424|\n",
      "|         78|4210653349028689|123459988|            20|           Bills|            34.34|20181008|\n",
      "+-----------+----------------+---------+--------------+----------------+-----------------+--------+\n",
      "only showing top 20 rows\n",
      "\n"
     ]
    }
   ],
   "source": [
    "def transform(customer_df, branch_df, credit_df):\n",
    "    #Using .withcolumn to format customer names in customer_df to their desired structer using initcap, trim to remove spaces on the end, and col to specifiy the column.\n",
    "    #Convert the Name to Title Case\n",
    "    customer_df = customer_df.withColumn(\"FIRST_NAME\", initcap(trim(col(\"FIRST_NAME\")))) #initcap is the pyspark version of .title\n",
    "    \n",
    "    #Convert the middle name in lower case\n",
    "    customer_df = customer_df.withColumn(\"MIDDLE_NAME\", lower(trim(col(\"MIDDLE_NAME\"))))\n",
    "    \n",
    "    #Convert the Last Name in Title Case\n",
    "    customer_df = customer_df.withColumn(\"LAST_NAME\", initcap(trim(col(\"LAST_NAME\"))))\n",
    "    \n",
    "    #Concatenate Apartment no and Street name of customer's Residence with comma as a seperator (Street, Apartment) \n",
    "    customer_df = customer_df.withColumn(\"FULL_STREET_ADDRESS\",concat(trim(col(\"STREET_NAME\")), \n",
    "                            lit(\", Apt# \"), trim(col(\"APT_NO\")))).drop(\"APT_NO\", \"STREET_NAME\") #dropping the APT_NO and STREET_NAME\n",
    "    \n",
    "    #Change the format of phone number to (XXX)XXX-XXXX\n",
    "    customer_df = customer_df.withColumn(\"CUST_PHONE_CLEAN\", regexp_replace(col(\"CUST_PHONE\"), r\"\\D\", \"\")# Removing all non-digit characters from the phone number\n",
    "                            ).withColumn(\"CUST_PHONE_FORMATTED\",when(\n",
    "                            length(col(\"CUST_PHONE_CLEAN\")) == 10, #If number has 10 digits, format as (XXX)XXX-XXXX\n",
    "                            concat(lit(\"(\"), substring(col(\"CUST_PHONE_CLEAN\"), 1, 3), lit(\")\"),\n",
    "                            substring(col(\"CUST_PHONE_CLEAN\"), 4, 3), lit(\"-\"),\n",
    "                            substring(col(\"CUST_PHONE_CLEAN\"), 7, 4))\n",
    "                            ).when(\n",
    "                            length(col(\"CUST_PHONE_CLEAN\")) == 7, #If number has 7 digits, format as XXX-XXX-XXXX with 'XXX-' placeholder area code\n",
    "                            concat(lit(\"XXX-\"),\n",
    "                            substring(col(\"CUST_PHONE_CLEAN\"), 1, 3), lit(\"-\"),\n",
    "                            substring(col(\"CUST_PHONE_CLEAN\"), 4, 4))\n",
    "                            ).otherwise(lit(\"INVALID\") #For anything not 7 or 10 digits, label as INVALID\n",
    "    )\n",
    ")\n",
    "        #Dropping the original \"CUST_PHONE\" column and the column \"CUST_PHONE_CLEAN\" that was created for the transform process\n",
    "    customer_df = customer_df.drop(\"CUST_PHONE\", \"CUST_PHONE_CLEAN\") \\\n",
    "                         .withColumnRenamed(\"CUST_PHONE_FORMATTED\", \"CUST_PHONE\") #Renaming final product \"CUST_PHONE_FORMATTED\" to the original column name \"CUST_PHONE\"\n",
    "    \n",
    "    #If the source value is null load default (99999) value else Direct move\n",
    "    branch_df = branch_df.fillna({'branch_zip': '99999'})\n",
    "    \n",
    "    #Change the format of phone number to (XXX)XXX-XXXX\n",
    "    branch_df = branch_df \\\n",
    "        .withColumn(\"BRANCH_PHONE_CLEAN\", regexp_replace(col(\"BRANCH_PHONE\"), r\"\\D\", \"\")) \\\n",
    "        .withColumn(\"BRANCH_PHONE_FORMATTED\",\n",
    "            when(\n",
    "                length(col(\"BRANCH_PHONE_CLEAN\")) == 10,\n",
    "                concat(\n",
    "                    lit(\"(\"), substring(col(\"BRANCH_PHONE_CLEAN\"), 1, 3), lit(\")\"),\n",
    "                    substring(col(\"BRANCH_PHONE_CLEAN\"), 4, 3), lit(\"-\"),\n",
    "                    substring(col(\"BRANCH_PHONE_CLEAN\"), 7, 4)\n",
    "                )\n",
    "            )\n",
    "        )\n",
    "        # Dropping the original \"BRANCH_PHONE\" column and the column \"BRANCH_PHONE_CLEAN\" that was created for the transform process\n",
    "    branch_df = branch_df.drop(\"BRANCH_PHONE\", \"BRANCH_PHONE_CLEAN\") \\\n",
    "                .withColumnRenamed(\"BRANCH_PHONE_FORMATTED\", \"BRANCH_PHONE\") #Renaming final product \"BRANCH_PHONE_FORMATTED\" to the original column name \"BRANCH_PHONE\"\n",
    "    \n",
    "    # Renaming CREDIT_CARD_NO column to CUST_CC_NO per mapping document\n",
    "    credit_df = credit_df.withColumnRenamed(\"CREDIT_CARD_NO\", \"CUST_CC_NO\")\n",
    "\n",
    "    #Convert DAY, MONTH, and YEAR into a TIMEID (YYYYMMDD)\n",
    "    credit_df = credit_df.withColumn(\"TIMEID\", #Creates Column \"DATE\"\n",
    "                concat(col(\"YEAR\").cast(\"string\"), # Concatinating \"YEAR\" \"MONTH\" and \"DAY\"\n",
    "                lpad(col(\"MONTH\").cast(\"string\"), 2, \"0\"), #Left padding the \"MONTH\" column with \"0\" until it is 2 elements long. \n",
    "                lpad(col(\"DAY\").cast(\"string\"), 2, \"0\") #Same process as month but for the \"DAY\" column\n",
    "            )\n",
    "        ).drop(\"MONTH\", \"DAY\", \"YEAR\")\n",
    "    return customer_df, branch_df, credit_df\n",
    "\n",
    "customer_df, branch_df, credit_df = transform(customer_df, branch_df, credit_df)\n",
    "\n",
    "\n",
    "customer_df.show()\n",
    "branch_df.show()\n",
    "credit_df.show()"
   ]
  },
  {
   "cell_type": "code",
   "execution_count": 4,
   "id": "55bf59b6",
   "metadata": {},
   "outputs": [
    {
     "data": {
      "text/html": [
       "<pre style=\"white-space:pre;overflow-x:auto;line-height:normal;font-family:Menlo,'DejaVu Sans Mono',consolas,'Courier New',monospace\">Database created.\n",
       "</pre>\n"
      ],
      "text/plain": [
       "Database created.\n"
      ]
     },
     "metadata": {},
     "output_type": "display_data"
    },
    {
     "data": {
      "text/html": [
       "<pre style=\"white-space:pre;overflow-x:auto;line-height:normal;font-family:Menlo,'DejaVu Sans Mono',consolas,'Courier New',monospace\">MySQL closed.\n",
       "</pre>\n"
      ],
      "text/plain": [
       "MySQL closed.\n"
      ]
     },
     "metadata": {},
     "output_type": "display_data"
    }
   ],
   "source": [
    "# credit_db_df = spark.read.format(\"jdbc\").options(      #Extracting data from sql(use different variable name to not overwrite the dataframes)\n",
    "#      driver=\"com.mysql.cj.jdbc.Driver\",\n",
    "#      user=\"root\",                                                  #Use for seaborn\n",
    "#      password=\"password\",\n",
    "#      url=\"jdbc:mysql://localhost:3306/creditcard_capstone_db\",\n",
    "#      dbtable=\"credit_data\").load()\n",
    "import mysql.connector\n",
    "from mysql.connector import Error\n",
    "\n",
    "conn = None\n",
    "\n",
    "try:\n",
    "    conn = mysql.connector.connect(\n",
    "        host='127.0.0.1',\n",
    "        user='root',\n",
    "        password='password'\n",
    "    )\n",
    "\n",
    "    if conn.is_connected():\n",
    "        cursor = conn.cursor()\n",
    "        cursor.execute(\"create database if not exists creditcard_capstone_db\")\n",
    "        print(\"Database created.\")\n",
    "\n",
    "except Error as e:\n",
    "    print(f\"Error: {e}\")\n",
    "\n",
    "finally:\n",
    "    if conn and conn.is_connected():\n",
    "        cursor.close()\n",
    "        conn.close()\n",
    "        print(\"MySQL closed.\")\n",
    "\n",
    "#creating tables in SQL\n",
    "def load(df, table_name):\n",
    "    df.write\\\n",
    "    .format(\"jdbc\")\\\n",
    "    .option(\"url\", \"jdbc:mysql://localhost:3306/creditcard_capstone_db\")\\\n",
    "    .option(\"driver\", \"com.mysql.cj.jdbc.Driver\")\\\n",
    "    .option(\"dbtable\", table_name)\\\n",
    "    .option(\"user\", \"root\")\\\n",
    "    .option(\"password\", \"password\")\\\n",
    "    .mode(\"overwrite\")\\\n",
    "    .save()\n",
    "\n",
    "load(customer_df, \"customer_data\")\n",
    "load(branch_df, \"branch_data\")\n",
    "load(credit_df, \"credit_data\")\n",
    "load(loan_df, \"cdw_sapp_loan_application\")"
   ]
  },
  {
   "cell_type": "code",
   "execution_count": 5,
   "id": "be17f2a9",
   "metadata": {},
   "outputs": [],
   "source": [
    "import mysql.connector\n",
    "from mysql.connector import Error\n",
    "from datetime import datetime\n",
    "\n",
    "def get_zip_code():\n",
    "    while True:\n",
    "        zip_code = input(\"Enter a 5-digit ZIP code: \").strip()\n",
    "        if zip_code.isdigit() and len(zip_code) == 5:\n",
    "            return zip_code\n",
    "        print(\"Invalid ZIP code. Must be 5 digits.\")\n",
    "\n",
    "def get_month():\n",
    "    while True:\n",
    "        month = input(\"Enter the month (1-12): \").strip()\n",
    "        if month.isdigit() and 1 <= int(month) <= 12:\n",
    "            return int(month)\n",
    "        print(\"Invalid month. Must be between 1 and 12.\")\n",
    "\n",
    "def get_year():\n",
    "    current_year = datetime.now().year\n",
    "    while True:\n",
    "        year = input(\"Enter the 4-digit year (e.g., 2025): \").strip()\n",
    "        if year.isdigit() and 1900 <= int(year) <= current_year:\n",
    "            return int(year)\n",
    "        print(f\"Invalid year. Must be between 1900 and {current_year}.\")\n",
    "\n",
    "def fetch_transactions(zip_code, month, year):\n",
    "    try:\n",
    "        conn = mysql.connector.connect(\n",
    "            host='localhost',\n",
    "            user='root',\n",
    "            password='password',\n",
    "            database='creditcard_capstone_db'\n",
    "        )\n",
    "\n",
    "        if conn.is_connected():\n",
    "            cursor = conn.cursor(dictionary=True)\n",
    "            query = \"\"\"\n",
    "                SELECT cu.FIRST_NAME, cu.LAST_NAME, cr.TRANSACTION_ID, cr.TRANSACTION_TYPE,\n",
    "                       cr.TRANSACTION_VALUE, \n",
    "                       MONTH(cr.TIMEID) AS TRANSACTION_MONTH, \n",
    "                       YEAR(cr.TIMEID) AS TRANSACTION_YEAR, \n",
    "                       DAY(cr.TIMEID) AS TRANSACTION_DAY\n",
    "                FROM credit_data cr\n",
    "                JOIN customer_data cu ON cr.CUST_SSN = cu.SSN\n",
    "                WHERE cu.CUST_ZIP = %s \n",
    "                  AND MONTH(cr.TIMEID) = %s \n",
    "                  AND YEAR(cr.TIMEID) = %s\n",
    "                ORDER BY TRANSACTION_DAY DESC;\n",
    "            \"\"\"\n",
    "            cursor.execute(query, (zip_code, month, year))\n",
    "            results = cursor.fetchall()\n",
    "\n",
    "            if results:\n",
    "                for row in results:\n",
    "                    print(f\"{row['FIRST_NAME']} {row['LAST_NAME']} | \"\n",
    "                          f\"Type: {row['TRANSACTION_TYPE']} | \"\n",
    "                          f\"Amount: ${row['TRANSACTION_VALUE']} | \"\n",
    "                          f\"Date: {row['TRANSACTION_MONTH']:02d}/\"\n",
    "                          f\"{row['TRANSACTION_DAY']:02d}/\"\n",
    "                          f\"{row['TRANSACTION_YEAR']}\")\n",
    "            else:\n",
    "                print(\"No transactions found.\")\n",
    "\n",
    "    except Error as e:\n",
    "        print(f\"Database error: {e}\")\n",
    "    finally:\n",
    "        if conn.is_connected():\n",
    "            cursor.close()\n",
    "            conn.close()\n",
    "\n",
    "def generate_monthly_statement(cc_no, month, year):\n",
    "    last_day = calendar.monthrange(year, month)[1]\n",
    "    try:\n",
    "        conn = mysql.connector.connect(\n",
    "            host='localhost',\n",
    "            user='root',\n",
    "            password='password',\n",
    "            database='creditcard_capstone_db'\n",
    "        )\n",
    "\n",
    "        if conn.is_connected():\n",
    "            cursor = conn.cursor(dictionary=True)\n",
    "            \n",
    "            first_day_of_month = int(f\"{year:04d}{month:02d}01\")\n",
    "            prev_balance_query = \"\"\"\n",
    "                SELECT \n",
    "                    COALESCE(SUM(TRANSACTION_VALUE), 0) AS PREVIOUS_BALANCE\n",
    "                FROM \n",
    "                    credit_data\n",
    "                WHERE \n",
    "                    CUST_CC_NO = %s\n",
    "                    AND TIMEID < %s;\n",
    "            \"\"\"\n",
    "            cursor.execute(prev_balance_query, (cc_no, first_day_of_month))\n",
    "            prev_balance = cursor.fetchone()['PREVIOUS_BALANCE']\n",
    "            \n",
    "            current_month_query = \"\"\"\n",
    "                SELECT \n",
    "                    cd.TIMEID,\n",
    "                    cd.TRANSACTION_TYPE,\n",
    "                    cd.TRANSACTION_VALUE,\n",
    "                    cd.BRANCH_CODE,\n",
    "                    cust.FIRST_NAME,\n",
    "                    cust.LAST_NAME\n",
    "                FROM \n",
    "                    credit_data cd\n",
    "                JOIN \n",
    "                    customer_data cust ON cd.CUST_CC_NO = cust.CREDIT_CARD_NO\n",
    "                WHERE \n",
    "                    cd.CUST_CC_NO = %s\n",
    "                    AND MONTH(cd.TIMEID) = %s\n",
    "                    AND YEAR(cd.TIMEID) = %s\n",
    "                ORDER BY \n",
    "                    cd.TIMEID;\n",
    "            \"\"\"\n",
    "            cursor.execute(current_month_query, (cc_no, month, year))\n",
    "            transactions = cursor.fetchall()\n",
    "\n",
    "            if not transactions:\n",
    "                print(\"No transactions found for this card and period.\")\n",
    "                return\n",
    "\n",
    "            customer_name = f\"{transactions[0]['FIRST_NAME']} {transactions[0]['LAST_NAME']}\"\n",
    "\n",
    "            current_month_total = sum(tx['TRANSACTION_VALUE'] for tx in transactions)\n",
    "\n",
    "            # New balance = previous balance + current month total\n",
    "            new_balance = prev_balance + current_month_total\n",
    "\n",
    "            # Minimum payment based on new balance\n",
    "            min_payment = max(round(new_balance * 0.05, 2), 25) if new_balance > 0 else 0\n",
    "\n",
    "            last_day = calendar.monthrange(year, month)[1]\n",
    "\n",
    "            # Print statement\n",
    "            print(\"\\n\" + \"=\"*50)\n",
    "            print(f\"CREDIT CARD STATEMENT - {month}/{year}\")\n",
    "            print(\"=\"*50)\n",
    "            print(f\"Customer Name  : {customer_name}\")\n",
    "            print(f\"Credit Card No : {cc_no}\")\n",
    "            print(f\"Billing Period : {month}/01/{year} to {month}/{last_day}/{year}\")\n",
    "            print(f\"Previous Balance: ${prev_balance:.2f}\")\n",
    "            print(f\"Current Charges: ${current_month_total:.2f}\")\n",
    "            print(f\"New Balance   : ${new_balance:.2f}\")\n",
    "            print(f\"Min Payment Due: ${min_payment:.2f}\")\n",
    "            if month != 12:\n",
    "                print(f\"Due Date       : {month+1}/{last_day}/{year}\")\n",
    "            else:\n",
    "                print(f\"Due Date       : 01/{last_day}/{year+1}\")\n",
    "            print(\"-\" * 50)\n",
    "            print(\"DATE        | TYPE       | AMOUNT    | BRANCH\")\n",
    "            print(\"-\" * 50)\n",
    "            for tx in transactions:\n",
    "                date = datetime.strptime(tx['TIMEID'], '%Y%m%d').strftime('%Y-%m-%d')\n",
    "                print(f\"{date} | {tx['TRANSACTION_TYPE']:10} | ${tx['TRANSACTION_VALUE']:8.2f} | {tx['BRANCH_CODE']}\")\n",
    "            print(\"=\"*50)\n",
    "\n",
    "    except mysql.connector.Error as e:\n",
    "        print(f\"Database error: {e}\")\n",
    "\n",
    "    finally:\n",
    "        if conn.is_connected():\n",
    "            cursor.close()\n",
    "            conn.close()\n",
    "\n",
    "def query_account_details(ssn):\n",
    "    try:\n",
    "        conn = mysql.connector.connect(\n",
    "            host='localhost',\n",
    "            user='root',\n",
    "            password='password',\n",
    "            database='creditcard_capstone_db'\n",
    "        )\n",
    "        if conn.is_connected():\n",
    "            cursor = conn.cursor(dictionary=True)\n",
    "            query = \"SELECT * FROM customer_data WHERE SSN = %s\"\n",
    "            cursor.execute(query, (ssn,))\n",
    "            result = cursor.fetchone()\n",
    "            if result:\n",
    "                print(\"Customer Account Details:\")\n",
    "                for key, value in result.items():\n",
    "                    print(f\"{key}: {value}\")\n",
    "            else:\n",
    "                print(\"No customer found with that SSN.\")\n",
    "\n",
    "    except mysql.connector.Error as e:\n",
    "        print(f\"Database error: {e}\")\n",
    "    finally:\n",
    "        if conn.is_connected():\n",
    "            cursor.close()\n",
    "            conn.close()\n",
    "\n",
    "def modify_account_details(ssn, field, new_value):\n",
    "    try:\n",
    "        conn = mysql.connector.connect(\n",
    "            host='localhost',\n",
    "            user='root',\n",
    "            password='password',\n",
    "            database='creditcard_capstone_db'\n",
    "        )\n",
    "        if conn.is_connected():\n",
    "            cursor = conn.cursor()\n",
    "            query = f\"UPDATE customer_data SET {field} = %s WHERE SSN = %s\"\n",
    "            cursor.execute(query, (new_value, ssn))\n",
    "            conn.commit()\n",
    "            print(\"Account updated successfully.\")\n",
    "\n",
    "    except mysql.connector.Error as e:\n",
    "        print(f\"Database error: {e}\")\n",
    "    finally:\n",
    "        if conn.is_connected():\n",
    "            cursor.close()\n",
    "            conn.close()\n",
    "\n",
    "def query_transactions_between_dates(start_date, end_date):\n",
    "    try:\n",
    "        conn = mysql.connector.connect(\n",
    "            host='localhost',\n",
    "            user='root',\n",
    "            password='password',\n",
    "            database='creditcard_capstone_db'\n",
    "        )\n",
    "        if conn.is_connected():\n",
    "            cursor = conn.cursor(dictionary=True)\n",
    "            query = \"\"\"\n",
    "                SELECT * FROM credit_data\n",
    "                WHERE TIMEID BETWEEN %s AND %s\n",
    "                ORDER BY YEAR(TIMEID) DESC, MONTH(TIMEID) DESC, DAY(TIMEID) DESC;\n",
    "            \"\"\"\n",
    "            cursor.execute(query, (start_date, end_date))\n",
    "            results = cursor.fetchall()\n",
    "            for row in results:\n",
    "                print(f\"{row['CUST_CC_NO']} | Type: {row['TRANSACTION_TYPE']} | \"\n",
    "                      f\"Amount: ${row['TRANSACTION_VALUE']} | Date: {row['TIMEID']}\")\n",
    "    except mysql.connector.Error as e:\n",
    "        print(f\"Database error: {e}\")\n",
    "    finally:\n",
    "        if conn.is_connected():\n",
    "            cursor.close()\n",
    "            conn.close()\n",
    "\n"
   ]
  },
  {
   "cell_type": "code",
   "execution_count": 6,
   "id": "e6db79d9",
   "metadata": {},
   "outputs": [],
   "source": [
    "loan_db_df = spark.read.format(\"jdbc\").options(      #Extracting data from sql(use different variable name to not overwrite the dataframes)\n",
    "      driver=\"com.mysql.cj.jdbc.Driver\",\n",
    "      user=\"root\",                                                  #Use for seaborn\n",
    "      password=\"password\",\n",
    "      url=\"jdbc:mysql://localhost:3306/creditcard_capstone_db\",\n",
    "      dbtable=\"cdw_sapp_loan_application\").load()"
   ]
  },
  {
   "cell_type": "code",
   "execution_count": null,
   "id": "dd9ca3d6",
   "metadata": {},
   "outputs": [],
   "source": [
    "from pyspark.sql.functions import col, count\n",
    "import matplotlib.pyplot as plt\n",
    "import seaborn as sns\n",
    "\n",
    "# Group by TRANSACTION_TYPE and count occurrences\n",
    "transaction_type_count_df = credit_df.groupBy(\"TRANSACTION_TYPE\").agg(count(\"*\").alias(\"TRANSACTION_COUNT\"))\n",
    "\n",
    "# Convert to Pandas for Seaborn visualization\n",
    "transaction_type_count_pd = transaction_type_count_df.toPandas()\n",
    "\n",
    "# Sort for cleaner plot\n",
    "transaction_type_count_pd.sort_values(by=\"TRANSACTION_COUNT\", ascending=False, inplace=True)\n",
    "\n",
    "transaction_type_count_df.show()\n",
    "\n",
    "# Plot using Seaborn\n",
    "plt.figure(figsize=(10, 6))\n",
    "ax = sns.barplot(data=transaction_type_count_pd, x=\"TRANSACTION_TYPE\", y=\"TRANSACTION_COUNT\", palette=\"Blues_d\")\n",
    "\n",
    "# Annotate each bar\n",
    "for p in ax.patches:\n",
    "    ax.annotate(f'{int(p.get_height())}', \n",
    "                (p.get_x() + p.get_width() / 2., p.get_height()), \n",
    "                ha='center', va='bottom', fontsize=10, color='black')\n",
    "\n",
    "plt.title(\"Transaction Count by Type\")\n",
    "plt.xlabel(\"Transaction Type\")\n",
    "plt.ylabel(\"Count\")\n",
    "plt.xticks(rotation=45)\n",
    "plt.tight_layout()\n",
    "plt.show()"
   ]
  },
  {
   "cell_type": "code",
   "execution_count": null,
   "id": "49e6a321",
   "metadata": {},
   "outputs": [],
   "source": [
    "# Group by state and count customers\n",
    "state_count_df = customer_df.groupBy(\"CUST_STATE\").agg(count(\"*\").alias(\"CUSTOMER_COUNT\"))\n",
    "\n",
    "# Convert to Pandas for plotting\n",
    "state_count_pd = state_count_df.toPandas()\n",
    "\n",
    "# Sort and take top 10\n",
    "top_states = state_count_pd.sort_values(by=\"CUSTOMER_COUNT\", ascending=False).head(10)\n",
    "\n",
    "# Plot with labels\n",
    "plt.figure(figsize=(10, 6))\n",
    "ax = sns.barplot(data=top_states, x=\"CUST_STATE\", y=\"CUSTOMER_COUNT\", palette=\"dark\")\n",
    "\n",
    "# Annotate each bar with the customer count\n",
    "for bar in ax.patches:\n",
    "    height = bar.get_height()\n",
    "    ax.annotate(f'{int(height)}',\n",
    "                xy=(bar.get_x() + bar.get_width() / 2, height),\n",
    "                xytext=(0, 3),  # vertical offset\n",
    "                textcoords=\"offset points\",\n",
    "                ha='center', va='bottom', fontsize=10, color='black')\n",
    "\n",
    "plt.title(\"Top 10 States by Customer Count\")\n",
    "plt.xlabel(\"State\")\n",
    "plt.ylabel(\"Number of Customers\")\n",
    "plt.tight_layout()\n",
    "plt.show()"
   ]
  },
  {
   "cell_type": "code",
   "execution_count": 11,
   "id": "2ab13122",
   "metadata": {},
   "outputs": [
    {
     "data": {
      "text/html": [
       "<pre style=\"white-space:pre;overflow-x:auto;line-height:normal;font-family:Menlo,'DejaVu Sans Mono',consolas,'Courier New',monospace\">\n",
       "<span style=\"font-weight: bold\">[</span> Main Menu <span style=\"font-weight: bold\">]</span>\n",
       "</pre>\n"
      ],
      "text/plain": [
       "\n",
       "\u001b[1m[\u001b[0m Main Menu \u001b[1m]\u001b[0m\n"
      ]
     },
     "metadata": {},
     "output_type": "display_data"
    },
    {
     "data": {
      "text/html": [
       "<pre style=\"white-space:pre;overflow-x:auto;line-height:normal;font-family:Menlo,'DejaVu Sans Mono',consolas,'Courier New',monospace\"><span style=\"color: #008080; text-decoration-color: #008080; font-weight: bold\">0</span>. Exit\n",
       "</pre>\n"
      ],
      "text/plain": [
       "\u001b[1;36m0\u001b[0m. Exit\n"
      ]
     },
     "metadata": {},
     "output_type": "display_data"
    },
    {
     "data": {
      "text/html": [
       "<pre style=\"white-space:pre;overflow-x:auto;line-height:normal;font-family:Menlo,'DejaVu Sans Mono',consolas,'Courier New',monospace\"><span style=\"color: #008080; text-decoration-color: #008080; font-weight: bold\">1</span>. View transactions by ZIP/month/year\n",
       "</pre>\n"
      ],
      "text/plain": [
       "\u001b[1;36m1\u001b[0m. View transactions by ZIP/month/year\n"
      ]
     },
     "metadata": {},
     "output_type": "display_data"
    },
    {
     "data": {
      "text/html": [
       "<pre style=\"white-space:pre;overflow-x:auto;line-height:normal;font-family:Menlo,'DejaVu Sans Mono',consolas,'Courier New',monospace\"><span style=\"color: #008080; text-decoration-color: #008080; font-weight: bold\">2</span>. Generate monthly bill\n",
       "</pre>\n"
      ],
      "text/plain": [
       "\u001b[1;36m2\u001b[0m. Generate monthly bill\n"
      ]
     },
     "metadata": {},
     "output_type": "display_data"
    },
    {
     "data": {
      "text/html": [
       "<pre style=\"white-space:pre;overflow-x:auto;line-height:normal;font-family:Menlo,'DejaVu Sans Mono',consolas,'Courier New',monospace\"><span style=\"color: #008080; text-decoration-color: #008080; font-weight: bold\">3</span>. Search account details\n",
       "</pre>\n"
      ],
      "text/plain": [
       "\u001b[1;36m3\u001b[0m. Search account details\n"
      ]
     },
     "metadata": {},
     "output_type": "display_data"
    },
    {
     "data": {
      "text/html": [
       "<pre style=\"white-space:pre;overflow-x:auto;line-height:normal;font-family:Menlo,'DejaVu Sans Mono',consolas,'Courier New',monospace\"><span style=\"color: #008080; text-decoration-color: #008080; font-weight: bold\">4</span>. Modify account details\n",
       "</pre>\n"
      ],
      "text/plain": [
       "\u001b[1;36m4\u001b[0m. Modify account details\n"
      ]
     },
     "metadata": {},
     "output_type": "display_data"
    },
    {
     "data": {
      "text/html": [
       "<pre style=\"white-space:pre;overflow-x:auto;line-height:normal;font-family:Menlo,'DejaVu Sans Mono',consolas,'Courier New',monospace\"><span style=\"color: #008080; text-decoration-color: #008080; font-weight: bold\">5</span>. Lookup transactions between two dates\n",
       "</pre>\n"
      ],
      "text/plain": [
       "\u001b[1;36m5\u001b[0m. Lookup transactions between two dates\n"
      ]
     },
     "metadata": {},
     "output_type": "display_data"
    },
    {
     "data": {
      "text/html": [
       "<pre style=\"white-space:pre;overflow-x:auto;line-height:normal;font-family:Menlo,'DejaVu Sans Mono',consolas,'Courier New',monospace\">\n",
       "==================================================\n",
       "</pre>\n"
      ],
      "text/plain": [
       "\n",
       "==================================================\n"
      ]
     },
     "metadata": {},
     "output_type": "display_data"
    },
    {
     "data": {
      "text/html": [
       "<pre style=\"white-space:pre;overflow-x:auto;line-height:normal;font-family:Menlo,'DejaVu Sans Mono',consolas,'Courier New',monospace\">CREDIT CARD STATEMENT - <span style=\"color: #008080; text-decoration-color: #008080; font-weight: bold\">12</span>/<span style=\"color: #008080; text-decoration-color: #008080; font-weight: bold\">2018</span>\n",
       "</pre>\n"
      ],
      "text/plain": [
       "CREDIT CARD STATEMENT - \u001b[1;36m12\u001b[0m/\u001b[1;36m2018\u001b[0m\n"
      ]
     },
     "metadata": {},
     "output_type": "display_data"
    },
    {
     "data": {
      "text/html": [
       "<pre style=\"white-space:pre;overflow-x:auto;line-height:normal;font-family:Menlo,'DejaVu Sans Mono',consolas,'Courier New',monospace\">==================================================\n",
       "</pre>\n"
      ],
      "text/plain": [
       "==================================================\n"
      ]
     },
     "metadata": {},
     "output_type": "display_data"
    },
    {
     "data": {
      "text/html": [
       "<pre style=\"white-space:pre;overflow-x:auto;line-height:normal;font-family:Menlo,'DejaVu Sans Mono',consolas,'Courier New',monospace\">Customer Name  : Alec Hooper\n",
       "</pre>\n"
      ],
      "text/plain": [
       "Customer Name  : Alec Hooper\n"
      ]
     },
     "metadata": {},
     "output_type": "display_data"
    },
    {
     "data": {
      "text/html": [
       "<pre style=\"white-space:pre;overflow-x:auto;line-height:normal;font-family:Menlo,'DejaVu Sans Mono',consolas,'Courier New',monospace\">Credit Card No : <span style=\"color: #008080; text-decoration-color: #008080; font-weight: bold\">4210653310061055</span>\n",
       "</pre>\n"
      ],
      "text/plain": [
       "Credit Card No : \u001b[1;36m4210653310061055\u001b[0m\n"
      ]
     },
     "metadata": {},
     "output_type": "display_data"
    },
    {
     "data": {
      "text/html": [
       "<pre style=\"white-space:pre;overflow-x:auto;line-height:normal;font-family:Menlo,'DejaVu Sans Mono',consolas,'Courier New',monospace\">Billing Period : <span style=\"color: #008080; text-decoration-color: #008080; font-weight: bold\">12</span>/<span style=\"color: #008080; text-decoration-color: #008080; font-weight: bold\">01</span>/<span style=\"color: #008080; text-decoration-color: #008080; font-weight: bold\">2018</span> to <span style=\"color: #008080; text-decoration-color: #008080; font-weight: bold\">12</span>/<span style=\"color: #008080; text-decoration-color: #008080; font-weight: bold\">31</span>/<span style=\"color: #008080; text-decoration-color: #008080; font-weight: bold\">2018</span>\n",
       "</pre>\n"
      ],
      "text/plain": [
       "Billing Period : \u001b[1;36m12\u001b[0m/\u001b[1;36m01\u001b[0m/\u001b[1;36m2018\u001b[0m to \u001b[1;36m12\u001b[0m/\u001b[1;36m31\u001b[0m/\u001b[1;36m2018\u001b[0m\n"
      ]
     },
     "metadata": {},
     "output_type": "display_data"
    },
    {
     "data": {
      "text/html": [
       "<pre style=\"white-space:pre;overflow-x:auto;line-height:normal;font-family:Menlo,'DejaVu Sans Mono',consolas,'Courier New',monospace\">Previous Balance: $<span style=\"color: #008080; text-decoration-color: #008080; font-weight: bold\">1884.56</span>\n",
       "</pre>\n"
      ],
      "text/plain": [
       "Previous Balance: $\u001b[1;36m1884.56\u001b[0m\n"
      ]
     },
     "metadata": {},
     "output_type": "display_data"
    },
    {
     "data": {
      "text/html": [
       "<pre style=\"white-space:pre;overflow-x:auto;line-height:normal;font-family:Menlo,'DejaVu Sans Mono',consolas,'Courier New',monospace\">Current Charges: $<span style=\"color: #008080; text-decoration-color: #008080; font-weight: bold\">140.30</span>\n",
       "</pre>\n"
      ],
      "text/plain": [
       "Current Charges: $\u001b[1;36m140.30\u001b[0m\n"
      ]
     },
     "metadata": {},
     "output_type": "display_data"
    },
    {
     "data": {
      "text/html": [
       "<pre style=\"white-space:pre;overflow-x:auto;line-height:normal;font-family:Menlo,'DejaVu Sans Mono',consolas,'Courier New',monospace\">New Balance   : $<span style=\"color: #008080; text-decoration-color: #008080; font-weight: bold\">2024.86</span>\n",
       "</pre>\n"
      ],
      "text/plain": [
       "New Balance   : $\u001b[1;36m2024.86\u001b[0m\n"
      ]
     },
     "metadata": {},
     "output_type": "display_data"
    },
    {
     "data": {
      "text/html": [
       "<pre style=\"white-space:pre;overflow-x:auto;line-height:normal;font-family:Menlo,'DejaVu Sans Mono',consolas,'Courier New',monospace\">Min Payment Due: $<span style=\"color: #008080; text-decoration-color: #008080; font-weight: bold\">101.24</span>\n",
       "</pre>\n"
      ],
      "text/plain": [
       "Min Payment Due: $\u001b[1;36m101.24\u001b[0m\n"
      ]
     },
     "metadata": {},
     "output_type": "display_data"
    },
    {
     "data": {
      "text/html": [
       "<pre style=\"white-space:pre;overflow-x:auto;line-height:normal;font-family:Menlo,'DejaVu Sans Mono',consolas,'Courier New',monospace\">Due Date       : <span style=\"color: #008080; text-decoration-color: #008080; font-weight: bold\">01</span>/<span style=\"color: #008080; text-decoration-color: #008080; font-weight: bold\">31</span>/<span style=\"color: #008080; text-decoration-color: #008080; font-weight: bold\">2019</span>\n",
       "</pre>\n"
      ],
      "text/plain": [
       "Due Date       : \u001b[1;36m01\u001b[0m/\u001b[1;36m31\u001b[0m/\u001b[1;36m2019\u001b[0m\n"
      ]
     },
     "metadata": {},
     "output_type": "display_data"
    },
    {
     "data": {
      "text/html": [
       "<pre style=\"white-space:pre;overflow-x:auto;line-height:normal;font-family:Menlo,'DejaVu Sans Mono',consolas,'Courier New',monospace\">--------------------------------------------------\n",
       "</pre>\n"
      ],
      "text/plain": [
       "--------------------------------------------------\n"
      ]
     },
     "metadata": {},
     "output_type": "display_data"
    },
    {
     "data": {
      "text/html": [
       "<pre style=\"white-space:pre;overflow-x:auto;line-height:normal;font-family:Menlo,'DejaVu Sans Mono',consolas,'Courier New',monospace\">DATE        | TYPE       | AMOUNT    | BRANCH\n",
       "</pre>\n"
      ],
      "text/plain": [
       "DATE        | TYPE       | AMOUNT    | BRANCH\n"
      ]
     },
     "metadata": {},
     "output_type": "display_data"
    },
    {
     "data": {
      "text/html": [
       "<pre style=\"white-space:pre;overflow-x:auto;line-height:normal;font-family:Menlo,'DejaVu Sans Mono',consolas,'Courier New',monospace\">--------------------------------------------------\n",
       "</pre>\n"
      ],
      "text/plain": [
       "--------------------------------------------------\n"
      ]
     },
     "metadata": {},
     "output_type": "display_data"
    },
    {
     "data": {
      "text/html": [
       "<pre style=\"white-space:pre;overflow-x:auto;line-height:normal;font-family:Menlo,'DejaVu Sans Mono',consolas,'Courier New',monospace\"><span style=\"color: #008080; text-decoration-color: #008080; font-weight: bold\">2018</span>-<span style=\"color: #008080; text-decoration-color: #008080; font-weight: bold\">12</span>-<span style=\"color: #008080; text-decoration-color: #008080; font-weight: bold\">05</span> | Entertainment | $   <span style=\"color: #008080; text-decoration-color: #008080; font-weight: bold\">46.60</span> | <span style=\"color: #008080; text-decoration-color: #008080; font-weight: bold\">59</span>\n",
       "</pre>\n"
      ],
      "text/plain": [
       "\u001b[1;36m2018\u001b[0m-\u001b[1;36m12\u001b[0m-\u001b[1;36m05\u001b[0m | Entertainment | $   \u001b[1;36m46.60\u001b[0m | \u001b[1;36m59\u001b[0m\n"
      ]
     },
     "metadata": {},
     "output_type": "display_data"
    },
    {
     "data": {
      "text/html": [
       "<pre style=\"white-space:pre;overflow-x:auto;line-height:normal;font-family:Menlo,'DejaVu Sans Mono',consolas,'Courier New',monospace\"><span style=\"color: #008080; text-decoration-color: #008080; font-weight: bold\">2018</span>-<span style=\"color: #008080; text-decoration-color: #008080; font-weight: bold\">12</span>-<span style=\"color: #008080; text-decoration-color: #008080; font-weight: bold\">10</span> | Entertainment | $   <span style=\"color: #008080; text-decoration-color: #008080; font-weight: bold\">84.13</span> | <span style=\"color: #008080; text-decoration-color: #008080; font-weight: bold\">8</span>\n",
       "</pre>\n"
      ],
      "text/plain": [
       "\u001b[1;36m2018\u001b[0m-\u001b[1;36m12\u001b[0m-\u001b[1;36m10\u001b[0m | Entertainment | $   \u001b[1;36m84.13\u001b[0m | \u001b[1;36m8\u001b[0m\n"
      ]
     },
     "metadata": {},
     "output_type": "display_data"
    },
    {
     "data": {
      "text/html": [
       "<pre style=\"white-space:pre;overflow-x:auto;line-height:normal;font-family:Menlo,'DejaVu Sans Mono',consolas,'Courier New',monospace\"><span style=\"color: #008080; text-decoration-color: #008080; font-weight: bold\">2018</span>-<span style=\"color: #008080; text-decoration-color: #008080; font-weight: bold\">12</span>-<span style=\"color: #008080; text-decoration-color: #008080; font-weight: bold\">28</span> | Bills      | $    <span style=\"color: #008080; text-decoration-color: #008080; font-weight: bold\">9.57</span> | <span style=\"color: #008080; text-decoration-color: #008080; font-weight: bold\">74</span>\n",
       "</pre>\n"
      ],
      "text/plain": [
       "\u001b[1;36m2018\u001b[0m-\u001b[1;36m12\u001b[0m-\u001b[1;36m28\u001b[0m | Bills      | $    \u001b[1;36m9.57\u001b[0m | \u001b[1;36m74\u001b[0m\n"
      ]
     },
     "metadata": {},
     "output_type": "display_data"
    },
    {
     "data": {
      "text/html": [
       "<pre style=\"white-space:pre;overflow-x:auto;line-height:normal;font-family:Menlo,'DejaVu Sans Mono',consolas,'Courier New',monospace\">==================================================\n",
       "</pre>\n"
      ],
      "text/plain": [
       "==================================================\n"
      ]
     },
     "metadata": {},
     "output_type": "display_data"
    },
    {
     "data": {
      "text/html": [
       "<pre style=\"white-space:pre;overflow-x:auto;line-height:normal;font-family:Menlo,'DejaVu Sans Mono',consolas,'Courier New',monospace\">\n",
       "<span style=\"font-weight: bold\">[</span> Main Menu <span style=\"font-weight: bold\">]</span>\n",
       "</pre>\n"
      ],
      "text/plain": [
       "\n",
       "\u001b[1m[\u001b[0m Main Menu \u001b[1m]\u001b[0m\n"
      ]
     },
     "metadata": {},
     "output_type": "display_data"
    },
    {
     "data": {
      "text/html": [
       "<pre style=\"white-space:pre;overflow-x:auto;line-height:normal;font-family:Menlo,'DejaVu Sans Mono',consolas,'Courier New',monospace\"><span style=\"color: #008080; text-decoration-color: #008080; font-weight: bold\">0</span>. Exit\n",
       "</pre>\n"
      ],
      "text/plain": [
       "\u001b[1;36m0\u001b[0m. Exit\n"
      ]
     },
     "metadata": {},
     "output_type": "display_data"
    },
    {
     "data": {
      "text/html": [
       "<pre style=\"white-space:pre;overflow-x:auto;line-height:normal;font-family:Menlo,'DejaVu Sans Mono',consolas,'Courier New',monospace\"><span style=\"color: #008080; text-decoration-color: #008080; font-weight: bold\">1</span>. View transactions by ZIP/month/year\n",
       "</pre>\n"
      ],
      "text/plain": [
       "\u001b[1;36m1\u001b[0m. View transactions by ZIP/month/year\n"
      ]
     },
     "metadata": {},
     "output_type": "display_data"
    },
    {
     "data": {
      "text/html": [
       "<pre style=\"white-space:pre;overflow-x:auto;line-height:normal;font-family:Menlo,'DejaVu Sans Mono',consolas,'Courier New',monospace\"><span style=\"color: #008080; text-decoration-color: #008080; font-weight: bold\">2</span>. Generate monthly bill\n",
       "</pre>\n"
      ],
      "text/plain": [
       "\u001b[1;36m2\u001b[0m. Generate monthly bill\n"
      ]
     },
     "metadata": {},
     "output_type": "display_data"
    },
    {
     "data": {
      "text/html": [
       "<pre style=\"white-space:pre;overflow-x:auto;line-height:normal;font-family:Menlo,'DejaVu Sans Mono',consolas,'Courier New',monospace\"><span style=\"color: #008080; text-decoration-color: #008080; font-weight: bold\">3</span>. Search account details\n",
       "</pre>\n"
      ],
      "text/plain": [
       "\u001b[1;36m3\u001b[0m. Search account details\n"
      ]
     },
     "metadata": {},
     "output_type": "display_data"
    },
    {
     "data": {
      "text/html": [
       "<pre style=\"white-space:pre;overflow-x:auto;line-height:normal;font-family:Menlo,'DejaVu Sans Mono',consolas,'Courier New',monospace\"><span style=\"color: #008080; text-decoration-color: #008080; font-weight: bold\">4</span>. Modify account details\n",
       "</pre>\n"
      ],
      "text/plain": [
       "\u001b[1;36m4\u001b[0m. Modify account details\n"
      ]
     },
     "metadata": {},
     "output_type": "display_data"
    },
    {
     "data": {
      "text/html": [
       "<pre style=\"white-space:pre;overflow-x:auto;line-height:normal;font-family:Menlo,'DejaVu Sans Mono',consolas,'Courier New',monospace\"><span style=\"color: #008080; text-decoration-color: #008080; font-weight: bold\">5</span>. Lookup transactions between two dates\n",
       "</pre>\n"
      ],
      "text/plain": [
       "\u001b[1;36m5\u001b[0m. Lookup transactions between two dates\n"
      ]
     },
     "metadata": {},
     "output_type": "display_data"
    },
    {
     "data": {
      "text/html": [
       "<pre style=\"white-space:pre;overflow-x:auto;line-height:normal;font-family:Menlo,'DejaVu Sans Mono',consolas,'Courier New',monospace\">Goodbye.\n",
       "</pre>\n"
      ],
      "text/plain": [
       "Goodbye.\n"
      ]
     },
     "metadata": {},
     "output_type": "display_data"
    }
   ],
   "source": [
    "def main_menu():\n",
    "    while True:\n",
    "        print(\"\\n[ Main Menu ]\")\n",
    "        print(\"0. Exit\")\n",
    "        print(\"1. View transactions by ZIP/month/year\")\n",
    "        print(\"2. Generate monthly bill\")\n",
    "        print(\"3. Search account details\")\n",
    "        print(\"4. Modify account details\")\n",
    "        print(\"5. Lookup transactions between two dates\")\n",
    "        \n",
    "        choice = input(\"Choose an option (0-5): \").strip()\n",
    "\n",
    "        if choice == '1':\n",
    "            zip_code = get_zip_code()\n",
    "            month = get_month()\n",
    "            year = get_year()\n",
    "            fetch_transactions(zip_code, month, year)\n",
    "\n",
    "        elif choice == '2':\n",
    "            cc_no = input(\"Enter Credit Card Number: \").strip()\n",
    "            month = get_month()\n",
    "            year = get_year()\n",
    "            generate_monthly_statement(cc_no, month, year)\n",
    "\n",
    "        elif choice == '3':\n",
    "            ssn = input(\"Enter Customer SSN: \").strip()\n",
    "            query_account_details(ssn)\n",
    "\n",
    "        elif choice == '4':\n",
    "            ssn = input(\"Enter Customer SSN: \").strip()\n",
    "            field = input(\"Enter field name to update (e.g., EMAIL, CUST_PHONE): \").strip()\n",
    "            new_value = input(\"Enter new value: \").strip()\n",
    "            modify_account_details(ssn, field, new_value)\n",
    "\n",
    "        elif choice == '5':\n",
    "            start_date = input(\"Enter start date (YYYYMMDD): \").strip()\n",
    "            end_date = input(\"Enter end date (YYYYMMDD): \").strip()\n",
    "            query_transactions_between_dates(start_date, end_date)\n",
    "\n",
    "        elif choice == '0':\n",
    "            print(\"Goodbye.\")\n",
    "            break\n",
    "        else:\n",
    "            print(\"Invalid option. Try again.\")\n",
    "\n",
    "if __name__ == \"__main__\":\n",
    "    main_menu()"
   ]
  }
 ],
 "metadata": {
  "kernelspec": {
   "display_name": "Python 3",
   "language": "python",
   "name": "python3"
  },
  "language_info": {
   "codemirror_mode": {
    "name": "ipython",
    "version": 3
   },
   "file_extension": ".py",
   "mimetype": "text/x-python",
   "name": "python",
   "nbconvert_exporter": "python",
   "pygments_lexer": "ipython3",
   "version": "3.13.2"
  }
 },
 "nbformat": 4,
 "nbformat_minor": 5
}
